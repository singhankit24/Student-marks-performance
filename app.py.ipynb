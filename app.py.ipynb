{
  "nbformat": 4,
  "nbformat_minor": 0,
  "metadata": {
    "colab": {
      "provenance": [],
      "authorship_tag": "ABX9TyMzF+94mWSlK/ybL1Lq7kzb",
      "include_colab_link": true
    },
    "kernelspec": {
      "name": "python3",
      "display_name": "Python 3"
    },
    "language_info": {
      "name": "python"
    }
  },
  "cells": [
    {
      "cell_type": "markdown",
      "metadata": {
        "id": "view-in-github",
        "colab_type": "text"
      },
      "source": [
        "<a href=\"https://colab.research.google.com/github/singhankit24/Student-marks-performance/blob/main/app.py.ipynb\" target=\"_parent\"><img src=\"https://colab.research.google.com/assets/colab-badge.svg\" alt=\"Open In Colab\"/></a>"
      ]
    },
    {
      "cell_type": "code",
      "source": [
        "\n",
        "from google.colab import files\n",
        "files.upload()"
      ],
      "metadata": {
        "colab": {
          "base_uri": "https://localhost:8080/",
          "height": 457
        },
        "id": "eZeP3K1ULzVx",
        "outputId": "c86270d6-a201-4864-8cd1-2c8c39bfac27"
      },
      "execution_count": 3,
      "outputs": [
        {
          "output_type": "display_data",
          "data": {
            "text/plain": [
              "<IPython.core.display.HTML object>"
            ],
            "text/html": [
              "\n",
              "     <input type=\"file\" id=\"files-935ae5dd-64ed-49ad-b005-c38c2c484127\" name=\"files[]\" multiple disabled\n",
              "        style=\"border:none\" />\n",
              "     <output id=\"result-935ae5dd-64ed-49ad-b005-c38c2c484127\">\n",
              "      Upload widget is only available when the cell has been executed in the\n",
              "      current browser session. Please rerun this cell to enable.\n",
              "      </output>\n",
              "      <script>// Copyright 2017 Google LLC\n",
              "//\n",
              "// Licensed under the Apache License, Version 2.0 (the \"License\");\n",
              "// you may not use this file except in compliance with the License.\n",
              "// You may obtain a copy of the License at\n",
              "//\n",
              "//      http://www.apache.org/licenses/LICENSE-2.0\n",
              "//\n",
              "// Unless required by applicable law or agreed to in writing, software\n",
              "// distributed under the License is distributed on an \"AS IS\" BASIS,\n",
              "// WITHOUT WARRANTIES OR CONDITIONS OF ANY KIND, either express or implied.\n",
              "// See the License for the specific language governing permissions and\n",
              "// limitations under the License.\n",
              "\n",
              "/**\n",
              " * @fileoverview Helpers for google.colab Python module.\n",
              " */\n",
              "(function(scope) {\n",
              "function span(text, styleAttributes = {}) {\n",
              "  const element = document.createElement('span');\n",
              "  element.textContent = text;\n",
              "  for (const key of Object.keys(styleAttributes)) {\n",
              "    element.style[key] = styleAttributes[key];\n",
              "  }\n",
              "  return element;\n",
              "}\n",
              "\n",
              "// Max number of bytes which will be uploaded at a time.\n",
              "const MAX_PAYLOAD_SIZE = 100 * 1024;\n",
              "\n",
              "function _uploadFiles(inputId, outputId) {\n",
              "  const steps = uploadFilesStep(inputId, outputId);\n",
              "  const outputElement = document.getElementById(outputId);\n",
              "  // Cache steps on the outputElement to make it available for the next call\n",
              "  // to uploadFilesContinue from Python.\n",
              "  outputElement.steps = steps;\n",
              "\n",
              "  return _uploadFilesContinue(outputId);\n",
              "}\n",
              "\n",
              "// This is roughly an async generator (not supported in the browser yet),\n",
              "// where there are multiple asynchronous steps and the Python side is going\n",
              "// to poll for completion of each step.\n",
              "// This uses a Promise to block the python side on completion of each step,\n",
              "// then passes the result of the previous step as the input to the next step.\n",
              "function _uploadFilesContinue(outputId) {\n",
              "  const outputElement = document.getElementById(outputId);\n",
              "  const steps = outputElement.steps;\n",
              "\n",
              "  const next = steps.next(outputElement.lastPromiseValue);\n",
              "  return Promise.resolve(next.value.promise).then((value) => {\n",
              "    // Cache the last promise value to make it available to the next\n",
              "    // step of the generator.\n",
              "    outputElement.lastPromiseValue = value;\n",
              "    return next.value.response;\n",
              "  });\n",
              "}\n",
              "\n",
              "/**\n",
              " * Generator function which is called between each async step of the upload\n",
              " * process.\n",
              " * @param {string} inputId Element ID of the input file picker element.\n",
              " * @param {string} outputId Element ID of the output display.\n",
              " * @return {!Iterable<!Object>} Iterable of next steps.\n",
              " */\n",
              "function* uploadFilesStep(inputId, outputId) {\n",
              "  const inputElement = document.getElementById(inputId);\n",
              "  inputElement.disabled = false;\n",
              "\n",
              "  const outputElement = document.getElementById(outputId);\n",
              "  outputElement.innerHTML = '';\n",
              "\n",
              "  const pickedPromise = new Promise((resolve) => {\n",
              "    inputElement.addEventListener('change', (e) => {\n",
              "      resolve(e.target.files);\n",
              "    });\n",
              "  });\n",
              "\n",
              "  const cancel = document.createElement('button');\n",
              "  inputElement.parentElement.appendChild(cancel);\n",
              "  cancel.textContent = 'Cancel upload';\n",
              "  const cancelPromise = new Promise((resolve) => {\n",
              "    cancel.onclick = () => {\n",
              "      resolve(null);\n",
              "    };\n",
              "  });\n",
              "\n",
              "  // Wait for the user to pick the files.\n",
              "  const files = yield {\n",
              "    promise: Promise.race([pickedPromise, cancelPromise]),\n",
              "    response: {\n",
              "      action: 'starting',\n",
              "    }\n",
              "  };\n",
              "\n",
              "  cancel.remove();\n",
              "\n",
              "  // Disable the input element since further picks are not allowed.\n",
              "  inputElement.disabled = true;\n",
              "\n",
              "  if (!files) {\n",
              "    return {\n",
              "      response: {\n",
              "        action: 'complete',\n",
              "      }\n",
              "    };\n",
              "  }\n",
              "\n",
              "  for (const file of files) {\n",
              "    const li = document.createElement('li');\n",
              "    li.append(span(file.name, {fontWeight: 'bold'}));\n",
              "    li.append(span(\n",
              "        `(${file.type || 'n/a'}) - ${file.size} bytes, ` +\n",
              "        `last modified: ${\n",
              "            file.lastModifiedDate ? file.lastModifiedDate.toLocaleDateString() :\n",
              "                                    'n/a'} - `));\n",
              "    const percent = span('0% done');\n",
              "    li.appendChild(percent);\n",
              "\n",
              "    outputElement.appendChild(li);\n",
              "\n",
              "    const fileDataPromise = new Promise((resolve) => {\n",
              "      const reader = new FileReader();\n",
              "      reader.onload = (e) => {\n",
              "        resolve(e.target.result);\n",
              "      };\n",
              "      reader.readAsArrayBuffer(file);\n",
              "    });\n",
              "    // Wait for the data to be ready.\n",
              "    let fileData = yield {\n",
              "      promise: fileDataPromise,\n",
              "      response: {\n",
              "        action: 'continue',\n",
              "      }\n",
              "    };\n",
              "\n",
              "    // Use a chunked sending to avoid message size limits. See b/62115660.\n",
              "    let position = 0;\n",
              "    do {\n",
              "      const length = Math.min(fileData.byteLength - position, MAX_PAYLOAD_SIZE);\n",
              "      const chunk = new Uint8Array(fileData, position, length);\n",
              "      position += length;\n",
              "\n",
              "      const base64 = btoa(String.fromCharCode.apply(null, chunk));\n",
              "      yield {\n",
              "        response: {\n",
              "          action: 'append',\n",
              "          file: file.name,\n",
              "          data: base64,\n",
              "        },\n",
              "      };\n",
              "\n",
              "      let percentDone = fileData.byteLength === 0 ?\n",
              "          100 :\n",
              "          Math.round((position / fileData.byteLength) * 100);\n",
              "      percent.textContent = `${percentDone}% done`;\n",
              "\n",
              "    } while (position < fileData.byteLength);\n",
              "  }\n",
              "\n",
              "  // All done.\n",
              "  yield {\n",
              "    response: {\n",
              "      action: 'complete',\n",
              "    }\n",
              "  };\n",
              "}\n",
              "\n",
              "scope.google = scope.google || {};\n",
              "scope.google.colab = scope.google.colab || {};\n",
              "scope.google.colab._files = {\n",
              "  _uploadFiles,\n",
              "  _uploadFilesContinue,\n",
              "};\n",
              "})(self);\n",
              "</script> "
            ]
          },
          "metadata": {}
        },
        {
          "output_type": "stream",
          "name": "stdout",
          "text": [
            "Saving marks_predictaion.py to marks_predictaion.py\n"
          ]
        },
        {
          "output_type": "execute_result",
          "data": {
            "text/plain": [
              "{'marks_predictaion.py': b'# -*- coding: utf-8 -*-\\n\"\"\"marks predictaion.ipynb\\n\\nAutomatically generated by Colab.\\n\\nOriginal file is located at\\n    https://colab.research.google.com/drive/1-edDE7vp4i3agI1pXJMIZw9cKhrPgEgu\\n\"\"\"\\n\\n#import libraries\\nimport numpy as np\\nimport pandas as pd\\nimport matplotlib.pyplot as plt\\n\\n#load datasets\\ndf=pd.read_csv(\\'synthetic_student_marks.csv\\')\\n\\ndf.tail()\\n\\ndf.shape\\n\\ndf.info()\\n\\ndf.describe()\\n\\nplt.scatter(x=df[\\'study_hours\\'],y=df[\\'student_marks\\'])\\nplt.xlabel(\\'student hours\\')\\nplt.ylabel(\\'student marks\\')\\nplt.title(\\'scatter plot of students study hours vs students marks\\')\\nplt.show()\\n\\ndf.isnull()\\n\\ndf.isnull().sum()\\n\\ndf.mean()\\n\\ndf2=df.fillna(df.mean())\\n\\ndf2.isnull().sum()\\n\\ndf2.head()\\n\\ndf2.tail()\\n\\nx=df2.drop(\\'student_marks\\',axis=1)\\ny=df2[\\'student_marks\\']\\n\\nprint(x.shape)\\nprint(y.shape)\\n\\nfrom sklearn.model_selection import train_test_split\\nx_train,x_test,y_train,y_test=train_test_split(x,y,test_size=0.2,random_state=51)\\nprint(\\'shape of x_train=\\',x_train.shape)\\nprint(\\'shape of y_train=\\',y_train.shape)\\nprint(\\'shape of x_test=\\',x_test.shape)\\nprint(\\'shape of y_test=\\',y_test.shape)\\n\\nfrom sklearn.ensemble import RandomForestRegressor\\nfrom sklearn.metrics import r2_score\\n\\n# Build and train the Random Forest model\\nrf = RandomForestRegressor(n_estimators=300, max_depth=10, random_state=42)\\nrf.fit(x_train, y_train)\\n\\n# Predict\\ny_pred = rf.predict(x_test)\\n\\n# Accuracy\\naccuracy = r2_score(y_test, y_pred)\\nprint(f\"Random Forest Accuracy (R\\xc2\\xb2 Score): {accuracy:.2f}\")\\n\\n# Save model\\nimport joblib\\njoblib.dump(rf, \\'student_marks_predictor_model.pkl\\')\\n\\n# Load and test model\\nmodel = joblib.load(\\'student_marks_predictor_model.pkl\\')\\nprint(\"Prediction for 5 study hours:\", model.predict([[5]])[0])\\n\\nrf.fit(x_train,y_train)\\n\\nrf.feature_importances_\\n\\nrf.score(x_test,y_test)\\n\\nrf.predict([[4]])[0]\\n\\ny_pred=rf.predict(x_test)\\n\\ny_pred\\n\\ny_test\\n\\nrf.score(x_test,y_test)\\n\\nplt.scatter(x_train,y_train)\\nplt.plot(x_train,rf.predict(x_train),color=\\'r\\')\\n\\nfrom sklearn.metrics import r2_score\\n\\n# Calculate accuracy (R\\xc2\\xb2 Score)\\naccuracy = r2_score(y_test, y_pred)\\nprint(f\"Model Accuracy (R\\xc2\\xb2 Score): {accuracy:.2f}\")\\n\\nimport joblib\\njoblib.dump(rf,\\'student_marks_predictor_model.pkl\\')\\n\\nmodel=joblib.load(\\'student_marks_predictor_model.pkl\\')\\n\\nmodel.predict([[5]])[0]\\n\\n# Calculate accuracy\\naccuracy = r2_score(y_test, y_pred)\\nprint(\"\\xe2\\x9c\\x85 Model Accuracy (R\\xc2\\xb2 Score):\", round(accuracy * 100, 2), \"%\")\\n\\n!pip install gradio\\n\\nimport gradio as gr\\nimport joblib\\nimport pandas as pd\\n\\n# Prediction function\\ndef predict_marks(study_hours):\\n    model = joblib.load(\\'student_marks_predictor_model.pkl\\')\\n    data = pd.DataFrame({\\'study_hours\\': [float(study_hours)]})\\n    prediction = model.predict(data)\\n    return round(prediction[0], 2)\\n\\n# Custom CSS for background and styling\\ncustom_css = \"\"\"\\nbody {\\n    background-color: #e0f7fa;  /* light cyan */\\n}\\n\"\"\"\\n\\n# Gradio Interface\\nui = gr.Interface(\\n    fn=predict_marks,\\n    inputs=gr.Number(label=\"\\xf0\\x9f\\x93\\x98 Enter Study Hours\"),\\n    outputs=gr.Textbox(label=\"\\xf0\\x9f\\x8e\\xaf Predicted Marks\"),\\n    title=\"\\xf0\\x9f\\x93\\x9a Student Marks Predictor\",\\n    description=\"Enter the number of hours studied and get the predicted marks using Random Forest Model.\",\\n    examples=[[5.0], [8.5], [3.2]],\\n    css=custom_css  # Inject custom background color\\n)\\n\\nui.launch(share=True)'}"
            ]
          },
          "metadata": {},
          "execution_count": 3
        }
      ]
    },
    {
      "cell_type": "code",
      "source": [
        "import os\n",
        "\n",
        "print(\"Files in current directory:\")\n",
        "print(os.listdir())\n"
      ],
      "metadata": {
        "colab": {
          "base_uri": "https://localhost:8080/"
        },
        "id": "Jzn5A6kaM7ol",
        "outputId": "2bbf83c1-14f2-4a36-e737-6da42bbfa185"
      },
      "execution_count": 6,
      "outputs": [
        {
          "output_type": "stream",
          "name": "stdout",
          "text": [
            "Files in current directory:\n",
            "['.config', 'marks_predictaion.py', '.gradio', 'sample_data']\n"
          ]
        }
      ]
    },
    {
      "cell_type": "code",
      "execution_count": 12,
      "metadata": {
        "colab": {
          "base_uri": "https://localhost:8080/",
          "height": 611
        },
        "id": "_IbYHBnP7yWg",
        "outputId": "e49b7162-c96c-4c53-fbb7-9787202658c6"
      },
      "outputs": [
        {
          "output_type": "stream",
          "name": "stdout",
          "text": [
            "Colab notebook detected. To show errors in colab notebook, set debug=True in launch()\n",
            "* Running on public URL: https://9493c0dcf0770d7277.gradio.live\n",
            "\n",
            "This share link expires in 1 week. For free permanent hosting and GPU upgrades, run `gradio deploy` from the terminal in the working directory to deploy to Hugging Face Spaces (https://huggingface.co/spaces)\n"
          ]
        },
        {
          "output_type": "display_data",
          "data": {
            "text/plain": [
              "<IPython.core.display.HTML object>"
            ],
            "text/html": [
              "<div><iframe src=\"https://9493c0dcf0770d7277.gradio.live\" width=\"100%\" height=\"500\" allow=\"autoplay; camera; microphone; clipboard-read; clipboard-write;\" frameborder=\"0\" allowfullscreen></iframe></div>"
            ]
          },
          "metadata": {}
        },
        {
          "output_type": "execute_result",
          "data": {
            "text/plain": []
          },
          "metadata": {},
          "execution_count": 12
        }
      ],
      "source": [
        "import gradio as gr\n",
        "import joblib\n",
        "import pandas as pd\n",
        "\n",
        "# ✅ Define the prediction function\n",
        "def predict_marks(study_hours):\n",
        "    # Load the trained model (make sure the filename matches your saved model)\n",
        "    model = joblib.load('student_marks_predictor_model.pkl')\n",
        "\n",
        "    # Prepare input as DataFrame\n",
        "    data = {\n",
        "        \"study_hours\": [float(study_hours)]\n",
        "    }\n",
        "    xin = pd.DataFrame(data)\n",
        "\n",
        "    # Predict\n",
        "    student_marks = model.predict(xin)\n",
        "    return round(student_marks[0], 2)\n",
        "\n",
        "# ✅ Gradio UI setup\n",
        "ui = gr.Interface(\n",
        "    fn=predict_marks,\n",
        "    inputs=gr.Number(label=\"Study Hours\"),\n",
        "    outputs=gr.Textbox(label=\"Predicted Marks\"),\n",
        "    title=\"📘 Student Marks Predictor\",\n",
        "    examples=[[5.0], [8.5], [3.2]],\n",
        "    description=\"Enter study hours to predict student marks using Random Forest\"\n",
        ")\n",
        "\n",
        "# ✅ Launch the app\n",
        "ui.launch(share=True)\n"
      ]
    }
  ]
}